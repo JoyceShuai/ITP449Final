{
  "nbformat": 4,
  "nbformat_minor": 0,
  "metadata": {
    "colab": {
      "name": "Final_Shuai_Joyce.ipynb",
      "provenance": [],
      "collapsed_sections": []
    },
    "kernelspec": {
      "name": "python3",
      "display_name": "Python 3"
    },
    "language_info": {
      "name": "python"
    }
  },
  "cells": [
    {
      "cell_type": "markdown",
      "metadata": {
        "id": "HLZ91mmvMQyl"
      },
      "source": [
        "## **Machine Learning Final Project DUE: Friday May 7th 11:59pm**\n",
        "\n",
        "**Note: Please read all the instructions carefully before starting the project.**\n",
        "\n",
        "For your final project you will build an ML model to analyze a dataset of your choice. You are welcome to keep working on the data in your EDA project if your data is large enough (at least 1000 rows for simple models and at least 10,000 for more complex models) or you can choose from the datasets/project suggestions below.\n",
        "\n",
        "In this project make sure that you:\n",
        "- Have a large enough dataset\n",
        "- Split your data in training and testing\n",
        "- Explore your data to inform which type of model to choose (no need if you are using your EDA dataset)\n",
        "- Try different models on your training dataset - then select the most promising model\n",
        "- Use cross validation to fine tune the model’s parameters such as alpha in lasso\n",
        "- Simplify your model using regularization, prunnning, drop-out, etc. to avoid overfitting\n",
        "- Communicate your model’s performance and make sure you compare it to a benchmark when appropriate\n",
        "- Plot interesting graphs and results\n",
        "- Write and publish your article to medium\n",
        "- Commit your code to your GitHub\n",
        "\n",
        "Please ensure you handle all the preprocessing before the modeling.\n",
        "\n",
        "Suggestions for project:\n",
        "You can take a look at the resources given below for choosing a dataset for your project. \n",
        "\n",
        "- Traffic sign detection - https://benchmark.ini.rub.de/gtsdb_dataset.html\n",
        "- Cat and dog classifier - https://www.kaggle.com/c/dogs-vs-cats/data\n",
        "- Other datasets from Kaggle - https://www.kaggle.com/data/41592"
      ]
    },
    {
      "cell_type": "markdown",
      "metadata": {
        "id": "mirWm3dBPv90"
      },
      "source": [
        "## **Grading Criteria**\n",
        "\n",
        "- Show clear exploration of the data to justify model choice\n",
        "- Train mutliple models and clearly articulate why you chose your final model\n",
        "- Show your performance on test dataset\n",
        "- Clear and concise write-up with clear well-documented figures\n",
        "- Commit your code to GitHub"
      ]
    },
    {
      "cell_type": "markdown",
      "metadata": {
        "id": "4ZRNqxFcP4wx"
      },
      "source": [
        "## **Submission Details**\n",
        "\n",
        "This is an individual assignment. You may not work in groups. The assignment is due on Friday (05/07/2021)\n",
        "- To submit your assignment, download your notebook and the dataset, zip the dataset and notebook, and submit the zipped file on blackboard.\n",
        "- Make sure the notebook is named in the format - Final_LastName_FirstName. If you are submitting a zipped file, please name the file as well in the same format.\n",
        "- Please include the link to access your blog and your github repo in your notebook.\n",
        "- Also include the link to your notebook, github repo and the blog in the submission on blackboard. Please ensure the TAs have the required access to your notebooks and the github repo.\n",
        "\n",
        "**Note - If the dataset is too large to be zipped and submitted on blackboard, only submit your notebook, add your dataset to your google drive and share a link to the file in your notebook.**"
      ]
    },
    {
      "cell_type": "code",
      "metadata": {
        "id": "ZzWRBLl6MImY",
        "colab": {
          "base_uri": "https://localhost:8080/",
          "height": 1000
        },
        "outputId": "a65b7c42-17f6-4567-8147-232979b0f58c"
      },
      "source": [
        "# import packages\n",
        "import numpy as np\n",
        "import pandas as pd\n",
        "import matplotlib.pyplot as plt\n",
        "import seaborn as sns\n",
        "from sklearn.model_selection import train_test_split\n",
        "from sklearn.metrics import confusion_matrix\n",
        "from sklearn.ensemble import RandomForestClassifier\n",
        "from sklearn.tree import DecisionTreeClassifier\n",
        "from sklearn.metrics import accuracy_score, confusion_matrix, classification_report\n",
        "\n",
        "# Read the dataset into a dataframe\n",
        "data = pd.read_csv('jobs_change.csv')\n",
        "display(data.head())\n",
        "data.shape\n",
        "\n",
        "# Check for missing values\n",
        "data.isna().any()\n",
        "data.replace('NaN', 'Unknown', inplace=True)\n",
        "# Plot the graph of gender against job change\n",
        "plt.figure()\n",
        "gender_plot = sns.countplot(x= data['gender'], hue= 'target', data= data)\n",
        "# Plot the graph of city against job change\n",
        "plt.figure()\n",
        "company_plot = sns.countplot(x= data['city'], hue= 'target', data= data)\n",
        "# Plot the graph of experience against job change\n",
        "plt.figure()\n",
        "experience_plot = sns.countplot(x= data['relevent_experience'], hue= 'target', data= data)\n",
        "# Plot the graph of education level against job change\n",
        "plt.figure()\n",
        "education_plot = sns.countplot(x= data['education_level'], hue= 'target', data= data)\n",
        "# Plot the graph of major against job change\n",
        "plt.figure()\n",
        "major_plot = sns.countplot(x= data['major_discipline'], hue= 'target', data= data)\n",
        "# Plot the graph of company size against job change\n",
        "plt.figure()\n",
        "company_plot = sns.countplot(x= data['company_size'], hue= 'target', data= data)\n",
        "# Plot the graph of company type against job change\n",
        "plt.figure()\n",
        "company_plot = sns.countplot(x= data['company_type'], hue= 'target', data= data)\n",
        "\n",
        "# Drop the irrelevant features\n",
        "data.drop(['enrollee_id', 'city', 'company_size', 'company_type'],axis = 1, inplace = True)\n",
        "# Convert 'experience' and 'last_new_job' into categorical variables\n",
        "data['experience'].replace({'<1':0,'>20':21, 'Unknown':-1}).astype('float')\n",
        "data['last_new_job'].replace({'never':0,'>4':5, 'Unknown':-1}).astype('float')\n",
        "# Convert categorical variables into dummy variables\n",
        "data = pd.get_dummies(data, columns=['gender','enrolled_university','relevent_experience','education_level','major_discipline', 'experience','last_new_job'])\n",
        "pd.set_option('display.max_columns', None)\n",
        "print(data.head())\n",
        "\n",
        "# Split into features and targets using iloc to select columns\n",
        "X = data.drop(\"target\",axis=1)\n",
        "y = data[\"target\"]\n",
        "print(y)\n",
        "\n",
        "# Partition the data into train and test sets\n",
        "X_train, X_test, y_train, y_test = train_test_split(X, y, test_size=0.3, stratify=y)\n",
        "\n",
        "# Get the baseline accuracy \n",
        "from sklearn.dummy import DummyClassifier\n",
        "dummy_classifier = DummyClassifier(strategy='most_frequent')\n",
        "dummy_classifier.fit(X_train,y_train)\n",
        "baseline_acc = dummy_classifier.score(X_test,y_test)\n",
        "print(\"Baseline Accuracy = \", baseline_acc)\n",
        "\n",
        "# Fit the training data to a classification tree model\n",
        "dt = DecisionTreeClassifier(criterion=\"entropy\")\n",
        "dt.fit(X_train, y_train)\n",
        "y_pred = dt.predict(X_test)\n",
        "training_pred = dt.predict(X_train)\n",
        "acc_training = accuracy_score(training_pred, y_train)\n",
        "print('Classification Tree Accuracy=', acc_training)\n",
        "\n",
        "# Fit the training data to a bagging model\n",
        "from sklearn.ensemble import BaggingClassifier\n",
        "model_bagging = BaggingClassifier(base_estimator=DecisionTreeClassifier(), n_estimators=100)\n",
        "model_bagging.fit(X_train, y_train)\n",
        "pred_bagging = model_bagging.predict(X_test)\n",
        "acc_bagging = accuracy_score(y_test, pred_bagging)\n",
        "print('Bagging Accuracy=', acc_bagging)\n",
        "\n",
        "# Fit the training data to a random forest model\n",
        "from sklearn.ensemble import RandomForestClassifier\n",
        "model_rf = RandomForestClassifier(n_estimators=100, max_features=5)\n",
        "model_rf.fit(X_train, y_train)\n",
        "predict_rf = model_rf.predict(X_test)\n",
        "print('Random Forest Accuracy=', accuracy_score(y_test, predict_rf))\n",
        "\n",
        "# Fit the training data to an adaboost model\n",
        "from sklearn.ensemble import AdaBoostClassifier\n",
        "base_est = DecisionTreeClassifier(max_depth=5)\n",
        "ada_boost = AdaBoostClassifier(base_est, n_estimators=100, learning_rate=.05)\n",
        "ada_boost.fit(X_train, y_train)\n",
        "print('Adaboost Accuracy=', accuracy_score(y_test, ada_boost.predict(X_test)))\n",
        "\n",
        "# Fit the training data to a voting model\n",
        "from sklearn.ensemble import VotingClassifier\n",
        "from sklearn.svm import SVC\n",
        "from sklearn.linear_model import LogisticRegression\n",
        "rfClf = RandomForestClassifier(n_estimators=100) \n",
        "svmClf = SVC(probability=True) \n",
        "logClf = LogisticRegression()\n",
        "dtClf = DecisionTreeClassifier(max_depth=5)\n",
        "clf = VotingClassifier(estimators = [('rf',rfClf), ('svm',svmClf), ('log', logClf), ('dtClf', dtClf)], voting='soft') \n",
        "clf.fit(X_train, y_train)\n",
        "clf_pred = clf.predict(X_test)\n",
        "print('Voting Accuracy=', accuracy_score(y_test, clf_pred))\n",
        "\n",
        "# conclude on the best fitting model\n",
        "print('Since Classification Tree Model has the highest accuracy score, it is the most promising model.')"
      ],
      "execution_count": 14,
      "outputs": [
        {
          "output_type": "display_data",
          "data": {
            "text/html": [
              "<div>\n",
              "<style scoped>\n",
              "    .dataframe tbody tr th:only-of-type {\n",
              "        vertical-align: middle;\n",
              "    }\n",
              "\n",
              "    .dataframe tbody tr th {\n",
              "        vertical-align: top;\n",
              "    }\n",
              "\n",
              "    .dataframe thead th {\n",
              "        text-align: right;\n",
              "    }\n",
              "</style>\n",
              "<table border=\"1\" class=\"dataframe\">\n",
              "  <thead>\n",
              "    <tr style=\"text-align: right;\">\n",
              "      <th></th>\n",
              "      <th>enrollee_id</th>\n",
              "      <th>city</th>\n",
              "      <th>city_development_index</th>\n",
              "      <th>gender</th>\n",
              "      <th>relevent_experience</th>\n",
              "      <th>enrolled_university</th>\n",
              "      <th>education_level</th>\n",
              "      <th>major_discipline</th>\n",
              "      <th>experience</th>\n",
              "      <th>company_size</th>\n",
              "      <th>company_type</th>\n",
              "      <th>last_new_job</th>\n",
              "      <th>training_hours</th>\n",
              "      <th>target</th>\n",
              "    </tr>\n",
              "  </thead>\n",
              "  <tbody>\n",
              "    <tr>\n",
              "      <th>0</th>\n",
              "      <td>8949</td>\n",
              "      <td>city_103</td>\n",
              "      <td>0.920</td>\n",
              "      <td>Male</td>\n",
              "      <td>Has relevent experience</td>\n",
              "      <td>no_enrollment</td>\n",
              "      <td>Graduate</td>\n",
              "      <td>STEM</td>\n",
              "      <td>&gt;20</td>\n",
              "      <td>NaN</td>\n",
              "      <td>NaN</td>\n",
              "      <td>1</td>\n",
              "      <td>36</td>\n",
              "      <td>1.0</td>\n",
              "    </tr>\n",
              "    <tr>\n",
              "      <th>1</th>\n",
              "      <td>29725</td>\n",
              "      <td>city_40</td>\n",
              "      <td>0.776</td>\n",
              "      <td>Male</td>\n",
              "      <td>No relevent experience</td>\n",
              "      <td>no_enrollment</td>\n",
              "      <td>Graduate</td>\n",
              "      <td>STEM</td>\n",
              "      <td>15</td>\n",
              "      <td>50-99</td>\n",
              "      <td>Pvt Ltd</td>\n",
              "      <td>&gt;4</td>\n",
              "      <td>47</td>\n",
              "      <td>0.0</td>\n",
              "    </tr>\n",
              "    <tr>\n",
              "      <th>2</th>\n",
              "      <td>11561</td>\n",
              "      <td>city_21</td>\n",
              "      <td>0.624</td>\n",
              "      <td>NaN</td>\n",
              "      <td>No relevent experience</td>\n",
              "      <td>Full time course</td>\n",
              "      <td>Graduate</td>\n",
              "      <td>STEM</td>\n",
              "      <td>5</td>\n",
              "      <td>NaN</td>\n",
              "      <td>NaN</td>\n",
              "      <td>never</td>\n",
              "      <td>83</td>\n",
              "      <td>0.0</td>\n",
              "    </tr>\n",
              "    <tr>\n",
              "      <th>3</th>\n",
              "      <td>33241</td>\n",
              "      <td>city_115</td>\n",
              "      <td>0.789</td>\n",
              "      <td>NaN</td>\n",
              "      <td>No relevent experience</td>\n",
              "      <td>NaN</td>\n",
              "      <td>Graduate</td>\n",
              "      <td>Business Degree</td>\n",
              "      <td>&lt;1</td>\n",
              "      <td>NaN</td>\n",
              "      <td>Pvt Ltd</td>\n",
              "      <td>never</td>\n",
              "      <td>52</td>\n",
              "      <td>1.0</td>\n",
              "    </tr>\n",
              "    <tr>\n",
              "      <th>4</th>\n",
              "      <td>666</td>\n",
              "      <td>city_162</td>\n",
              "      <td>0.767</td>\n",
              "      <td>Male</td>\n",
              "      <td>Has relevent experience</td>\n",
              "      <td>no_enrollment</td>\n",
              "      <td>Masters</td>\n",
              "      <td>STEM</td>\n",
              "      <td>&gt;20</td>\n",
              "      <td>50-99</td>\n",
              "      <td>Funded Startup</td>\n",
              "      <td>4</td>\n",
              "      <td>8</td>\n",
              "      <td>0.0</td>\n",
              "    </tr>\n",
              "  </tbody>\n",
              "</table>\n",
              "</div>"
            ],
            "text/plain": [
              "   enrollee_id      city  city_development_index gender  \\\n",
              "0         8949  city_103                   0.920   Male   \n",
              "1        29725   city_40                   0.776   Male   \n",
              "2        11561   city_21                   0.624    NaN   \n",
              "3        33241  city_115                   0.789    NaN   \n",
              "4          666  city_162                   0.767   Male   \n",
              "\n",
              "       relevent_experience enrolled_university education_level  \\\n",
              "0  Has relevent experience       no_enrollment        Graduate   \n",
              "1   No relevent experience       no_enrollment        Graduate   \n",
              "2   No relevent experience    Full time course        Graduate   \n",
              "3   No relevent experience                 NaN        Graduate   \n",
              "4  Has relevent experience       no_enrollment         Masters   \n",
              "\n",
              "  major_discipline experience company_size    company_type last_new_job  \\\n",
              "0             STEM        >20          NaN             NaN            1   \n",
              "1             STEM         15        50-99         Pvt Ltd           >4   \n",
              "2             STEM          5          NaN             NaN        never   \n",
              "3  Business Degree         <1          NaN         Pvt Ltd        never   \n",
              "4             STEM        >20        50-99  Funded Startup            4   \n",
              "\n",
              "   training_hours  target  \n",
              "0              36     1.0  \n",
              "1              47     0.0  \n",
              "2              83     0.0  \n",
              "3              52     1.0  \n",
              "4               8     0.0  "
            ]
          },
          "metadata": {
            "tags": []
          }
        },
        {
          "output_type": "stream",
          "text": [
            "   city_development_index  training_hours  target  gender_Female  gender_Male  \\\n",
            "0                   0.920              36     1.0              0            1   \n",
            "1                   0.776              47     0.0              0            1   \n",
            "2                   0.624              83     0.0              0            0   \n",
            "3                   0.789              52     1.0              0            0   \n",
            "4                   0.767               8     0.0              0            1   \n",
            "\n",
            "   gender_Other  enrolled_university_Full time course  \\\n",
            "0             0                                     0   \n",
            "1             0                                     0   \n",
            "2             0                                     1   \n",
            "3             0                                     0   \n",
            "4             0                                     0   \n",
            "\n",
            "   enrolled_university_Part time course  enrolled_university_no_enrollment  \\\n",
            "0                                     0                                  1   \n",
            "1                                     0                                  1   \n",
            "2                                     0                                  0   \n",
            "3                                     0                                  0   \n",
            "4                                     0                                  1   \n",
            "\n",
            "   relevent_experience_Has relevent experience  \\\n",
            "0                                            1   \n",
            "1                                            0   \n",
            "2                                            0   \n",
            "3                                            0   \n",
            "4                                            1   \n",
            "\n",
            "   relevent_experience_No relevent experience  education_level_Graduate  \\\n",
            "0                                           0                         1   \n",
            "1                                           1                         1   \n",
            "2                                           1                         1   \n",
            "3                                           1                         1   \n",
            "4                                           0                         0   \n",
            "\n",
            "   education_level_High School  education_level_Masters  education_level_Phd  \\\n",
            "0                            0                        0                    0   \n",
            "1                            0                        0                    0   \n",
            "2                            0                        0                    0   \n",
            "3                            0                        0                    0   \n",
            "4                            0                        1                    0   \n",
            "\n",
            "   education_level_Primary School  major_discipline_Arts  \\\n",
            "0                               0                      0   \n",
            "1                               0                      0   \n",
            "2                               0                      0   \n",
            "3                               0                      0   \n",
            "4                               0                      0   \n",
            "\n",
            "   major_discipline_Business Degree  major_discipline_Humanities  \\\n",
            "0                                 0                            0   \n",
            "1                                 0                            0   \n",
            "2                                 0                            0   \n",
            "3                                 1                            0   \n",
            "4                                 0                            0   \n",
            "\n",
            "   major_discipline_No Major  major_discipline_Other  major_discipline_STEM  \\\n",
            "0                          0                       0                      1   \n",
            "1                          0                       0                      1   \n",
            "2                          0                       0                      1   \n",
            "3                          0                       0                      0   \n",
            "4                          0                       0                      1   \n",
            "\n",
            "   experience_1  experience_10  experience_11  experience_12  experience_13  \\\n",
            "0             0              0              0              0              0   \n",
            "1             0              0              0              0              0   \n",
            "2             0              0              0              0              0   \n",
            "3             0              0              0              0              0   \n",
            "4             0              0              0              0              0   \n",
            "\n",
            "   experience_14  experience_15  experience_16  experience_17  experience_18  \\\n",
            "0              0              0              0              0              0   \n",
            "1              0              1              0              0              0   \n",
            "2              0              0              0              0              0   \n",
            "3              0              0              0              0              0   \n",
            "4              0              0              0              0              0   \n",
            "\n",
            "   experience_19  experience_2  experience_20  experience_3  experience_4  \\\n",
            "0              0             0              0             0             0   \n",
            "1              0             0              0             0             0   \n",
            "2              0             0              0             0             0   \n",
            "3              0             0              0             0             0   \n",
            "4              0             0              0             0             0   \n",
            "\n",
            "   experience_5  experience_6  experience_7  experience_8  experience_9  \\\n",
            "0             0             0             0             0             0   \n",
            "1             0             0             0             0             0   \n",
            "2             1             0             0             0             0   \n",
            "3             0             0             0             0             0   \n",
            "4             0             0             0             0             0   \n",
            "\n",
            "   experience_<1  experience_>20  last_new_job_1  last_new_job_2  \\\n",
            "0              0               1               1               0   \n",
            "1              0               0               0               0   \n",
            "2              0               0               0               0   \n",
            "3              1               0               0               0   \n",
            "4              0               1               0               0   \n",
            "\n",
            "   last_new_job_3  last_new_job_4  last_new_job_>4  last_new_job_never  \n",
            "0               0               0                0                   0  \n",
            "1               0               0                1                   0  \n",
            "2               0               0                0                   1  \n",
            "3               0               0                0                   1  \n",
            "4               0               1                0                   0  \n",
            "0        1.0\n",
            "1        0.0\n",
            "2        0.0\n",
            "3        1.0\n",
            "4        0.0\n",
            "        ... \n",
            "19153    1.0\n",
            "19154    1.0\n",
            "19155    0.0\n",
            "19156    0.0\n",
            "19157    0.0\n",
            "Name: target, Length: 19158, dtype: float64\n",
            "Baseline Accuracy =  0.7506958942240779\n",
            "Classification Tree Accuracy= 0.9931394481730053\n",
            "Bagging Accuracy= 0.7459986082115518\n",
            "Random Forest Accuracy= 0.738517745302714\n",
            "Adaboost Accuracy= 0.7781837160751566\n"
          ],
          "name": "stdout"
        },
        {
          "output_type": "stream",
          "text": [
            "/usr/local/lib/python3.7/dist-packages/sklearn/linear_model/_logistic.py:940: ConvergenceWarning: lbfgs failed to converge (status=1):\n",
            "STOP: TOTAL NO. of ITERATIONS REACHED LIMIT.\n",
            "\n",
            "Increase the number of iterations (max_iter) or scale the data as shown in:\n",
            "    https://scikit-learn.org/stable/modules/preprocessing.html\n",
            "Please also refer to the documentation for alternative solver options:\n",
            "    https://scikit-learn.org/stable/modules/linear_model.html#logistic-regression\n",
            "  extra_warning_msg=_LOGISTIC_SOLVER_CONVERGENCE_MSG)\n"
          ],
          "name": "stderr"
        },
        {
          "output_type": "stream",
          "text": [
            "Voting Accuracy= 0.7663535142658316\n",
            "Since Classification Tree Model has the highest accuracy score, it is the most promising model.\n"
          ],
          "name": "stdout"
        },
        {
          "output_type": "display_data",
          "data": {
            "image/png": "[encoded data removed]",
            "text/plain": [
              "<Figure size 432x288 with 1 Axes>"
            ]
          },
          "metadata": {
            "tags": [],
            "needs_background": "light"
          }
        },
        {
          "output_type": "display_data",
          "data": {
            "image/png": "[encoded data removed]",
            "text/plain": [
              "<Figure size 432x288 with 1 Axes>"
            ]
          },
          "metadata": {
            "tags": [],
            "needs_background": "light"
          }
        },
        {
          "output_type": "display_data",
          "data": {
            "image/png": "[encoded data removed]",
            "text/plain": [
              "<Figure size 432x288 with 1 Axes>"
            ]
          },
          "metadata": {
            "tags": [],
            "needs_background": "light"
          }
        },
        {
          "output_type": "display_data",
          "data": {
            "image/png": "[encoded data removed]",
            "text/plain": [
              "<Figure size 432x288 with 1 Axes>"
            ]
          },
          "metadata": {
            "tags": [],
            "needs_background": "light"
          }
        },
        {
          "output_type": "display_data",
          "data": {
            "image/png": "[encoded data removed]",
            "text/plain": [
              "<Figure size 432x288 with 1 Axes>"
            ]
          },
          "metadata": {
            "tags": [],
            "needs_background": "light"
          }
        },
        {
          "output_type": "display_data",
          "data": {
            "image/png": "[encoded data removed]",
            "text/plain": [
              "<Figure size 432x288 with 1 Axes>"
            ]
          },
          "metadata": {
            "tags": [],
            "needs_background": "light"
          }
        },
        {
          "output_type": "display_data",
          "data": {
            "image/png": "[encoded data removed]",
            "text/plain": [
              "<Figure size 432x288 with 1 Axes>"
            ]
          },
          "metadata": {
            "tags": [],
            "needs_background": "light"
          }
        }
      ]
    },
    {
      "cell_type": "code",
      "metadata": {
        "id": "Dbzo4MMia4A6"
      },
      "source": [
        ""
      ],
      "execution_count": null,
      "outputs": []
    }
  ]
}